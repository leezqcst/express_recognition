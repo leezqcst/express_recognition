{
 "cells": [
  {
   "cell_type": "code",
   "execution_count": 1,
   "metadata": {
    "collapsed": true
   },
   "outputs": [],
   "source": [
    "import os\n",
    "from crnn import CRNN\n",
    "import torch\n",
    "import torch.nn.functional as F\n",
    "import torchvision\n",
    "import dataset\n",
    "from torch.autograd import Variable\n",
    "import utils\n",
    "from PIL import Image\n",
    "import matplotlib.pyplot as plt\n",
    "%matplotlib inline"
   ]
  },
  {
   "cell_type": "code",
   "execution_count": 2,
   "metadata": {
    "collapsed": true
   },
   "outputs": [],
   "source": [
    "nh = 100\n",
    "alphabet = '0123456789'\n",
    "nclass = len(alphabet) + 1\n",
    "nc = 1\n",
    "mynet = CRNN(32, nc, nclass, nh)"
   ]
  },
  {
   "cell_type": "code",
   "execution_count": 3,
   "metadata": {
    "collapsed": true
   },
   "outputs": [],
   "source": [
    "converter = utils.strLabelConverter(alphabet)"
   ]
  },
  {
   "cell_type": "code",
   "execution_count": 4,
   "metadata": {
    "collapsed": false
   },
   "outputs": [],
   "source": [
    "mynet.load_state_dict(torch.load('/home/sherlock/Documents/express_recognition/data/model_save/telephone/crnn_model-gru.pth'))\n",
    "mynet = mynet.cuda()"
   ]
  },
  {
   "cell_type": "code",
   "execution_count": 5,
   "metadata": {
    "collapsed": true
   },
   "outputs": [],
   "source": [
    "def show_result(img_name):\n",
    "    root = '/home/sherlock/Documents/express_recognition/data/validation/telephone'\n",
    "    img_path = os.path.join(root, img_name)\n",
    "    transformer = dataset.resizeNormalize((256, 32))\n",
    "    image = Image.open(img_path).convert('L')\n",
    "    image = transformer(image).cuda()\n",
    "    image = image.view(1, *image.size())\n",
    "    image = Variable(image)\n",
    "    \n",
    "    mynet.eval()\n",
    "    preds = mynet(image) # sequence_length x batch_size x n_classes\n",
    "    _, preds = preds.max(2) # sequence_length x batch_size x 1\n",
    "    preds = preds.view(-1) # sequence_length x 1\n",
    "    preds_size = torch.IntTensor([preds.size(0)])\n",
    "    raw_pred = converter.decode(preds.data, preds_size, raw=True)\n",
    "    sim_pred = converter.decode(preds.data, preds_size, raw=False)\n",
    "    pic = Image.open(img_path)\n",
    "    plt.imshow(pic)\n",
    "    plt.show()\n",
    "    print('{} => {}'.format(raw_pred, sim_pred))"
   ]
  },
  {
   "cell_type": "code",
   "execution_count": 8,
   "metadata": {
    "collapsed": false
   },
   "outputs": [
    {
     "data": {
      "image/png": "[encoded data removed]",
      "text/plain": [
       "<matplotlib.figure.Figure at 0x7f81e8684cf8>"
      ]
     },
     "metadata": {},
     "output_type": "display_data"
    },
    {
     "name": "stdout",
     "output_type": "stream",
     "text": [
      "1188--7115-448-55446-5---------- => 18715485465\n"
     ]
    }
   ],
   "source": [
    "show_result('16_231_1_1.png')"
   ]
  },
  {
   "cell_type": "code",
   "execution_count": null,
   "metadata": {
    "collapsed": true
   },
   "outputs": [],
   "source": [
    "root = '/home/sherlock/Documents/express_recognition/data/validation/telephone'\n",
    "img_path = os.path.join(root, '17_210_1_1.png')\n",
    "transformer = dataset.resizeNormalize((128, 32))\n",
    "image = Image.open(img_path).convert('L')\n",
    "image = transformer(image).cuda()\n",
    "image = image.view(1, *image.size())\n",
    "image = Variable(image)\n",
    "\n",
    "mynet.eval()\n",
    "preds = mynet(image) # preds sequence_length x batch_size x n_classes"
   ]
  },
  {
   "cell_type": "code",
   "execution_count": null,
   "metadata": {
    "collapsed": true
   },
   "outputs": [],
   "source": [
    "preds = preds.squeeze(1)"
   ]
  },
  {
   "cell_type": "code",
   "execution_count": null,
   "metadata": {
    "collapsed": true
   },
   "outputs": [],
   "source": [
    "preds = F.softmax(preds)\n",
    "prob, label = torch.max(preds, 1)"
   ]
  },
  {
   "cell_type": "code",
   "execution_count": null,
   "metadata": {
    "collapsed": true
   },
   "outputs": [],
   "source": [
    "tele = ''\n",
    "for i in range(label.size(0)):\n",
    "    if prob[i].cpu().data[0] > 0.9:\n",
    "        if label[i].cpu().data[0] == 0:\n",
    "            tele += '-'\n",
    "        else:\n",
    "            tele += str(label[i].cpu().data[0]-1)"
   ]
  },
  {
   "cell_type": "code",
   "execution_count": null,
   "metadata": {
    "collapsed": false
   },
   "outputs": [],
   "source": [
    "for i in range(preds.size(0)):\n",
    "    label = preds.cpu().data[i, :]\n",
    "    label = label.numpy()\n",
    "    plt.plot(label)\n",
    "    plt.title('{}'.format(i))\n",
    "    plt.show()"
   ]
  },
  {
   "cell_type": "code",
   "execution_count": null,
   "metadata": {
    "collapsed": false
   },
   "outputs": [],
   "source": [
    "all_file_name = os.listdir('/home/sherlock/Documents/express_recognition/data/validation/telephone/')\n",
    "\n",
    "for img in all_file_name:\n",
    "    show_result(img)\n",
    "    print()"
   ]
  },
  {
   "cell_type": "code",
   "execution_count": null,
   "metadata": {
    "collapsed": true
   },
   "outputs": [],
   "source": []
  }
 ],
 "metadata": {
  "anaconda-cloud": {},
  "kernelspec": {
   "display_name": "Python [conda env:pytorch]",
   "language": "python",
   "name": "conda-env-pytorch-py"
  },
  "language_info": {
   "codemirror_mode": {
    "name": "ipython",
    "version": 3
   },
   "file_extension": ".py",
   "mimetype": "text/x-python",
   "name": "python",
   "nbconvert_exporter": "python",
   "pygments_lexer": "ipython3",
   "version": "3.6.1"
  }
 },
 "nbformat": 4,
 "nbformat_minor": 1
}
