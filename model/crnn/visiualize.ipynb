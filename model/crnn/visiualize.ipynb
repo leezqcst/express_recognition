{
 "cells": [
  {
   "cell_type": "code",
   "execution_count": null,
   "metadata": {
    "collapsed": false
   },
   "outputs": [],
   "source": [
    "import os\n",
    "from crnn import CRNN\n",
    "import torch\n",
    "import torch.nn.functional as F\n",
    "import torchvision\n",
    "import dataset\n",
    "from torch.autograd import Variable\n",
    "import utils\n",
    "from PIL import Image\n",
    "import matplotlib.pyplot as plt\n",
    "%matplotlib inline"
   ]
  },
  {
   "cell_type": "code",
   "execution_count": null,
   "metadata": {
    "collapsed": true
   },
   "outputs": [],
   "source": [
    "nh = 100\n",
    "alphabet = '0123456789'\n",
    "nclass = len(alphabet) + 1\n",
    "nc = 1\n",
    "mynet = CRNN(32, nc, nclass, nh)"
   ]
  },
  {
   "cell_type": "code",
   "execution_count": null,
   "metadata": {
    "collapsed": true
   },
   "outputs": [],
   "source": [
    "converter = utils.strLabelConverter(alphabet)"
   ]
  },
  {
   "cell_type": "code",
   "execution_count": null,
   "metadata": {
    "collapsed": false
   },
   "outputs": [],
   "source": [
    "mynet.load_state_dict(torch.load('/home/sherlock/Documents/express_recognition/data/model_save/telephone/baseline.pth'))\n",
    "mynet = mynet.cuda()\n",
    "mynet = mynet.eval()"
   ]
  },
  {
   "cell_type": "code",
   "execution_count": null,
   "metadata": {
    "collapsed": false
   },
   "outputs": [],
   "source": [
    "root = '/home/sherlock/Documents/express_recognition/data/validation/'\n",
    "img_root = root + 'telephone'\n",
    "txt_root = root + 'val_label.txt'"
   ]
  },
  {
   "cell_type": "code",
   "execution_count": null,
   "metadata": {
    "collapsed": true
   },
   "outputs": [],
   "source": [
    "dset = dataset.Dataset(img_root=img_root, txt_root=txt_root)"
   ]
  },
  {
   "cell_type": "code",
   "execution_count": null,
   "metadata": {
    "collapsed": false
   },
   "outputs": [],
   "source": [
    "print('All Valid Image number is {}'.format(len(dset)))"
   ]
  },
  {
   "cell_type": "code",
   "execution_count": null,
   "metadata": {
    "collapsed": true
   },
   "outputs": [],
   "source": [
    "def get_acc():\n",
    "    transformer = dataset.resizeNormalize((256, 32))\n",
    "    num_correct = 0\n",
    "    for i, img_path in enumerate(dset.image):\n",
    "        image = Image.open(img_path).convert('L')\n",
    "        image = transformer(image).cuda()\n",
    "        image = image.view(1, *image.size())\n",
    "        image = Variable(image)\n",
    "\n",
    "        preds = mynet(image) # sequence_length x batch_size x n_classes\n",
    "        _, preds = preds.max(2) # sequence_length x batch_size x 1\n",
    "        preds = preds.view(-1) # sequence_length x 1\n",
    "        preds_size = torch.IntTensor([preds.size(0)])\n",
    "        raw_pred = converter.decode(preds.data, preds_size, raw=True)\n",
    "        sim_pred = converter.decode(preds.data, preds_size, raw=False)\n",
    "        if sim_pred == dset.label[i]:\n",
    "            num_correct += 1\n",
    "        else:\n",
    "            pic = Image.open(img_path)\n",
    "            plt.imshow(pic)\n",
    "            plt.show()\n",
    "            print('{} => {}'.format(raw_pred, sim_pred))\n",
    "    print('total accuracy: {:.6f}'.format(num_correct/len(dset)))"
   ]
  },
  {
   "cell_type": "code",
   "execution_count": null,
   "metadata": {
    "collapsed": false,
    "scrolled": false
   },
   "outputs": [],
   "source": [
    "get_acc()"
   ]
  },
  {
   "cell_type": "code",
   "execution_count": null,
   "metadata": {
    "collapsed": true
   },
   "outputs": [],
   "source": [
    "def show_result(img_name):\n",
    "    root = '/home/sherlock/Documents/express_recognition/data/validation/telephone'\n",
    "    img_path = os.path.join(root, img_name)\n",
    "    transformer = dataset.resizeNormalize((256, 32))\n",
    "    image = Image.open(img_path).convert('L')\n",
    "    image = transformer(image).cuda()\n",
    "    image = image.view(1, *image.size())\n",
    "    image = Variable(image)\n",
    "    \n",
    "    mynet.eval()\n",
    "    preds = mynet(image) # sequence_length x batch_size x n_classes\n",
    "    _, preds = preds.max(2) # sequence_length x batch_size x 1\n",
    "    preds = preds.view(-1) # sequence_length x 1\n",
    "    preds_size = torch.IntTensor([preds.size(0)])\n",
    "    raw_pred = converter.decode(preds.data, preds_size, raw=True)\n",
    "    sim_pred = converter.decode(preds.data, preds_size, raw=False)\n",
    "    pic = Image.open(img_path)\n",
    "    plt.imshow(pic)\n",
    "    plt.show()\n",
    "    print('{} => {}'.format(raw_pred, sim_pred))"
   ]
  },
  {
   "cell_type": "code",
   "execution_count": null,
   "metadata": {
    "collapsed": true
   },
   "outputs": [],
   "source": [
    "show_result('1_15_9.jpg')"
   ]
  },
  {
   "cell_type": "code",
   "execution_count": null,
   "metadata": {
    "collapsed": true
   },
   "outputs": [],
   "source": [
    "root = '/home/sherlock/Documents/express_recognition/data/validation/telephone'\n",
    "img_path = os.path.join(root, '17_210_1_1.png')\n",
    "transformer = dataset.resizeNormalize((128, 32))\n",
    "image = Image.open(img_path).convert('L')\n",
    "image = transformer(image).cuda()\n",
    "image = image.view(1, *image.size())\n",
    "image = Variable(image)\n",
    "\n",
    "mynet.eval()\n",
    "preds = mynet(image) # preds sequence_length x batch_size x n_classes"
   ]
  },
  {
   "cell_type": "code",
   "execution_count": null,
   "metadata": {
    "collapsed": true
   },
   "outputs": [],
   "source": [
    "preds = preds.squeeze(1)"
   ]
  },
  {
   "cell_type": "code",
   "execution_count": null,
   "metadata": {
    "collapsed": true
   },
   "outputs": [],
   "source": [
    "preds = F.softmax(preds)\n",
    "prob, label = torch.max(preds, 1)"
   ]
  },
  {
   "cell_type": "code",
   "execution_count": null,
   "metadata": {
    "collapsed": true
   },
   "outputs": [],
   "source": [
    "tele = ''\n",
    "for i in range(label.size(0)):\n",
    "    if prob[i].cpu().data[0] > 0.9:\n",
    "        if label[i].cpu().data[0] == 0:\n",
    "            tele += '-'\n",
    "        else:\n",
    "            tele += str(label[i].cpu().data[0]-1)"
   ]
  },
  {
   "cell_type": "code",
   "execution_count": null,
   "metadata": {
    "collapsed": true
   },
   "outputs": [],
   "source": [
    "for i in range(preds.size(0)):\n",
    "    label = preds.cpu().data[i, :]\n",
    "    label = label.numpy()\n",
    "    plt.plot(label)\n",
    "    plt.title('{}'.format(i))\n",
    "    plt.show()"
   ]
  },
  {
   "cell_type": "code",
   "execution_count": null,
   "metadata": {
    "collapsed": true,
    "scrolled": false
   },
   "outputs": [],
   "source": [
    "all_file_name = os.listdir('/home/sherlock/Documents/express_recognition/data/validation/telephone/')\n",
    "\n",
    "for img in all_file_name:\n",
    "    show_result(img)\n",
    "    print()"
   ]
  },
  {
   "cell_type": "code",
   "execution_count": null,
   "metadata": {
    "collapsed": true
   },
   "outputs": [],
   "source": []
  }
 ],
 "metadata": {
  "anaconda-cloud": {},
  "kernelspec": {
   "display_name": "Python [conda env:pytorch]",
   "language": "python",
   "name": "conda-env-pytorch-py"
  },
  "language_info": {
   "codemirror_mode": {
    "name": "ipython",
    "version": 3
   },
   "file_extension": ".py",
   "mimetype": "text/x-python",
   "name": "python",
   "nbconvert_exporter": "python",
   "pygments_lexer": "ipython3",
   "version": "3.6.1"
  }
 },
 "nbformat": 4,
 "nbformat_minor": 1
}
